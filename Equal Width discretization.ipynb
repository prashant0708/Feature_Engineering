{
 "cells": [
  {
   "cell_type": "markdown",
   "id": "0a9851dd",
   "metadata": {},
   "source": [
    "# Discritization \n",
    "\n",
    "Discretization – It is the process of transforming of  continuous variable into discreate variable by creating a set of contiguous interval that span the range of variable’s value . It is also called binning where the meaning of binning is interval \n",
    "\n",
    "### Why Discritization is important \n",
    "\n",
    "- Discritiztion help to descrase the value spread and also improve the skewed data .\n",
    "- Discritization also handel the outliers by placing these value into lower and higher intervals with remaining values of the variables.\n",
    "\n",
    "### <font colour=\"Red\"> What are the method of Discritization</font>\n",
    "- discritization method are categories under unsupervised and Supervised \n",
    "1. Unsupervised discritization methods are \n",
    "- Equal width discretization \n",
    "- Equal Frequency discritization\n",
    "- K-means discritization\n",
    "2. Supervised discritization methods are \n",
    "- Dicision Tree discretization \n",
    "\n",
    "\n",
    "## What is Equal width discritization \n",
    "\n",
    "- In Equal width discritization divide the value in N bins with equal width. The Width of the bins are calculated by range of the values  divided by number of bins (N)  \n",
    "\n",
    "- `width = max_value-min_value/N , Where N= Number of bins user want'\n",
    "\n",
    "- Example we have range of value 10 to 100 and i want to use 5 bins then the Width of bins will be  \n",
    "\n",
    "- ` (100-10)/5 = 18 thus the bins will be 10-18, 18-36,36-54,54-72,72-90,90-108 `\n",
    "- \\\\ First and Final bins can accomodate the lower and higher outliers.\n",
    "\n",
    "\n"
   ]
  },
  {
   "cell_type": "code",
   "execution_count": 1,
   "id": "29b7ae5c",
   "metadata": {},
   "outputs": [],
   "source": [
    "import pandas as pd\n",
    "import numpy as np\n",
    "import os"
   ]
  },
  {
   "cell_type": "code",
   "execution_count": 2,
   "id": "77cf9c07",
   "metadata": {},
   "outputs": [
    {
     "name": "stdout",
     "output_type": "stream",
     "text": [
      "['Housing.csv', 'loan.csv', 'README.md', 'titanic.xlsx']\n"
     ]
    }
   ],
   "source": [
    "for dir_name,_,files_name in os.walk(r'C:\\Users\\Prashant Kumar Singh\\Downloads\\Study Materials\\Python\\Feature Engineering on 25th Jan 24\\Multiple data set'):\n",
    "    print(files_name)\n",
    "    for file in files_name :\n",
    "        list_of_file=os.path.join(dir_name,file)\n"
   ]
  },
  {
   "cell_type": "code",
   "execution_count": 3,
   "id": "771f8f11",
   "metadata": {},
   "outputs": [],
   "source": [
    "df=pd.read_excel(list_of_file)"
   ]
  },
  {
   "cell_type": "code",
   "execution_count": 4,
   "id": "7c399dea",
   "metadata": {},
   "outputs": [
    {
     "data": {
      "text/html": [
       "<div>\n",
       "<style scoped>\n",
       "    .dataframe tbody tr th:only-of-type {\n",
       "        vertical-align: middle;\n",
       "    }\n",
       "\n",
       "    .dataframe tbody tr th {\n",
       "        vertical-align: top;\n",
       "    }\n",
       "\n",
       "    .dataframe thead th {\n",
       "        text-align: right;\n",
       "    }\n",
       "</style>\n",
       "<table border=\"1\" class=\"dataframe\">\n",
       "  <thead>\n",
       "    <tr style=\"text-align: right;\">\n",
       "      <th></th>\n",
       "      <th>pclass</th>\n",
       "      <th>sex</th>\n",
       "      <th>age</th>\n",
       "      <th>sibsp</th>\n",
       "      <th>parch</th>\n",
       "      <th>fare</th>\n",
       "      <th>embarked</th>\n",
       "      <th>class</th>\n",
       "      <th>who</th>\n",
       "      <th>adult_male</th>\n",
       "      <th>deck</th>\n",
       "      <th>embark_town</th>\n",
       "      <th>alive</th>\n",
       "      <th>alone</th>\n",
       "      <th>survived</th>\n",
       "    </tr>\n",
       "  </thead>\n",
       "  <tbody>\n",
       "    <tr>\n",
       "      <th>0</th>\n",
       "      <td>3</td>\n",
       "      <td>male</td>\n",
       "      <td>22.0</td>\n",
       "      <td>1</td>\n",
       "      <td>0</td>\n",
       "      <td>7.2500</td>\n",
       "      <td>S</td>\n",
       "      <td>Third</td>\n",
       "      <td>man</td>\n",
       "      <td>True</td>\n",
       "      <td>NaN</td>\n",
       "      <td>Southampton</td>\n",
       "      <td>no</td>\n",
       "      <td>False</td>\n",
       "      <td>0</td>\n",
       "    </tr>\n",
       "    <tr>\n",
       "      <th>1</th>\n",
       "      <td>1</td>\n",
       "      <td>female</td>\n",
       "      <td>38.0</td>\n",
       "      <td>1</td>\n",
       "      <td>0</td>\n",
       "      <td>71.2833</td>\n",
       "      <td>C</td>\n",
       "      <td>First</td>\n",
       "      <td>woman</td>\n",
       "      <td>False</td>\n",
       "      <td>C</td>\n",
       "      <td>Cherbourg</td>\n",
       "      <td>yes</td>\n",
       "      <td>False</td>\n",
       "      <td>1</td>\n",
       "    </tr>\n",
       "    <tr>\n",
       "      <th>2</th>\n",
       "      <td>3</td>\n",
       "      <td>female</td>\n",
       "      <td>26.0</td>\n",
       "      <td>0</td>\n",
       "      <td>0</td>\n",
       "      <td>7.9250</td>\n",
       "      <td>S</td>\n",
       "      <td>Third</td>\n",
       "      <td>woman</td>\n",
       "      <td>False</td>\n",
       "      <td>NaN</td>\n",
       "      <td>Southampton</td>\n",
       "      <td>yes</td>\n",
       "      <td>True</td>\n",
       "      <td>1</td>\n",
       "    </tr>\n",
       "    <tr>\n",
       "      <th>3</th>\n",
       "      <td>1</td>\n",
       "      <td>female</td>\n",
       "      <td>35.0</td>\n",
       "      <td>1</td>\n",
       "      <td>0</td>\n",
       "      <td>53.1000</td>\n",
       "      <td>S</td>\n",
       "      <td>First</td>\n",
       "      <td>woman</td>\n",
       "      <td>False</td>\n",
       "      <td>C</td>\n",
       "      <td>Southampton</td>\n",
       "      <td>yes</td>\n",
       "      <td>False</td>\n",
       "      <td>1</td>\n",
       "    </tr>\n",
       "    <tr>\n",
       "      <th>4</th>\n",
       "      <td>3</td>\n",
       "      <td>male</td>\n",
       "      <td>35.0</td>\n",
       "      <td>0</td>\n",
       "      <td>0</td>\n",
       "      <td>8.0500</td>\n",
       "      <td>S</td>\n",
       "      <td>Third</td>\n",
       "      <td>man</td>\n",
       "      <td>True</td>\n",
       "      <td>NaN</td>\n",
       "      <td>Southampton</td>\n",
       "      <td>no</td>\n",
       "      <td>True</td>\n",
       "      <td>0</td>\n",
       "    </tr>\n",
       "  </tbody>\n",
       "</table>\n",
       "</div>"
      ],
      "text/plain": [
       "   pclass     sex   age  sibsp  parch     fare embarked  class    who  \\\n",
       "0       3    male  22.0      1      0   7.2500        S  Third    man   \n",
       "1       1  female  38.0      1      0  71.2833        C  First  woman   \n",
       "2       3  female  26.0      0      0   7.9250        S  Third  woman   \n",
       "3       1  female  35.0      1      0  53.1000        S  First  woman   \n",
       "4       3    male  35.0      0      0   8.0500        S  Third    man   \n",
       "\n",
       "   adult_male deck  embark_town alive  alone  survived  \n",
       "0        True  NaN  Southampton    no  False         0  \n",
       "1       False    C    Cherbourg   yes  False         1  \n",
       "2       False  NaN  Southampton   yes   True         1  \n",
       "3       False    C  Southampton   yes  False         1  \n",
       "4        True  NaN  Southampton    no   True         0  "
      ]
     },
     "execution_count": 4,
     "metadata": {},
     "output_type": "execute_result"
    }
   ],
   "source": [
    "df.head()"
   ]
  },
  {
   "cell_type": "code",
   "execution_count": 5,
   "id": "7f83a07b",
   "metadata": {},
   "outputs": [],
   "source": [
    "df1=df[['age','fare','survived']]"
   ]
  },
  {
   "cell_type": "code",
   "execution_count": 6,
   "id": "16de500c",
   "metadata": {},
   "outputs": [
    {
     "data": {
      "text/plain": [
       "age         177\n",
       "fare          0\n",
       "survived      0\n",
       "dtype: int64"
      ]
     },
     "execution_count": 6,
     "metadata": {},
     "output_type": "execute_result"
    }
   ],
   "source": [
    "df1.isnull().sum()"
   ]
  },
  {
   "cell_type": "code",
   "execution_count": 7,
   "id": "11d1e289",
   "metadata": {},
   "outputs": [
    {
     "name": "stderr",
     "output_type": "stream",
     "text": [
      "C:\\Users\\Prashant Kumar Singh\\AppData\\Local\\Temp\\ipykernel_22132\\3200051135.py:3: SettingWithCopyWarning: \n",
      "A value is trying to be set on a copy of a slice from a DataFrame.\n",
      "Try using .loc[row_indexer,col_indexer] = value instead\n",
      "\n",
      "See the caveats in the documentation: https://pandas.pydata.org/pandas-docs/stable/user_guide/indexing.html#returning-a-view-versus-a-copy\n",
      "  df1['age']=df1['age'].fillna(np.mean(df1['age']))\n"
     ]
    }
   ],
   "source": [
    "## Impute the missing value using mean \n",
    "\n",
    "df1['age']=df1['age'].fillna(np.mean(df1['age']))"
   ]
  },
  {
   "cell_type": "code",
   "execution_count": 8,
   "id": "48455fb2",
   "metadata": {},
   "outputs": [
    {
     "data": {
      "text/plain": [
       "0"
      ]
     },
     "execution_count": 8,
     "metadata": {},
     "output_type": "execute_result"
    }
   ],
   "source": [
    "df1['age'].isnull().sum()"
   ]
  },
  {
   "cell_type": "code",
   "execution_count": 9,
   "id": "b1e4839e",
   "metadata": {},
   "outputs": [
    {
     "data": {
      "text/plain": [
       "array([[<Axes: title={'center': 'age'}>,\n",
       "        <Axes: title={'center': 'fare'}>]], dtype=object)"
      ]
     },
     "execution_count": 9,
     "metadata": {},
     "output_type": "execute_result"
    },
    {
     "data": {
      "image/png": "[encoded data removed]",
      "text/plain": [
       "<Figure size 800x400 with 2 Axes>"
      ]
     },
     "metadata": {},
     "output_type": "display_data"
    }
   ],
   "source": [
    "## let's explore the distributon of the age and fare\n",
    "\n",
    "df[['age','fare']].hist(bins=30,figsize=(8,4))"
   ]
  },
  {
   "cell_type": "markdown",
   "id": "b8ee185f",
   "metadata": {},
   "source": [
    "# Equal Width Discritization \n",
    "N=8"
   ]
  },
  {
   "cell_type": "code",
   "execution_count": 10,
   "id": "84d3761c",
   "metadata": {},
   "outputs": [],
   "source": [
    "label=['bins_'+str(i) for i in range(1,9)]"
   ]
  },
  {
   "cell_type": "code",
   "execution_count": 11,
   "id": "112f8cb1",
   "metadata": {},
   "outputs": [
    {
     "data": {
      "text/plain": [
       "['bins_1',\n",
       " 'bins_2',\n",
       " 'bins_3',\n",
       " 'bins_4',\n",
       " 'bins_5',\n",
       " 'bins_6',\n",
       " 'bins_7',\n",
       " 'bins_8']"
      ]
     },
     "execution_count": 11,
     "metadata": {},
     "output_type": "execute_result"
    }
   ],
   "source": [
    "label"
   ]
  },
  {
   "cell_type": "code",
   "execution_count": 12,
   "id": "b3e57150",
   "metadata": {},
   "outputs": [
    {
     "name": "stderr",
     "output_type": "stream",
     "text": [
      "C:\\Users\\Prashant Kumar Singh\\AppData\\Local\\Temp\\ipykernel_22132\\4155844654.py:3: SettingWithCopyWarning: \n",
      "A value is trying to be set on a copy of a slice from a DataFrame.\n",
      "Try using .loc[row_indexer,col_indexer] = value instead\n",
      "\n",
      "See the caveats in the documentation: https://pandas.pydata.org/pandas-docs/stable/user_guide/indexing.html#returning-a-view-versus-a-copy\n",
      "  df1['age_label']=pd.cut(x=df1['age'],bins=8,retbins= False,\n"
     ]
    }
   ],
   "source": [
    "## before discritization it is important to split the data into train and test but i am doing with all the data (df)\n",
    "\n",
    "df1['age_label']=pd.cut(x=df1['age'],bins=8,retbins= False,\n",
    "    precision = 3,include_lowest=True,labels=label)"
   ]
  },
  {
   "cell_type": "code",
   "execution_count": 13,
   "id": "2c817d87",
   "metadata": {},
   "outputs": [
    {
     "name": "stderr",
     "output_type": "stream",
     "text": [
      "C:\\Users\\Prashant Kumar Singh\\AppData\\Local\\Temp\\ipykernel_22132\\1491324187.py:1: SettingWithCopyWarning: \n",
      "A value is trying to be set on a copy of a slice from a DataFrame.\n",
      "Try using .loc[row_indexer,col_indexer] = value instead\n",
      "\n",
      "See the caveats in the documentation: https://pandas.pydata.org/pandas-docs/stable/user_guide/indexing.html#returning-a-view-versus-a-copy\n",
      "  df1['age_bins']=pd.cut(x=df1['age'],bins=8,retbins= False,\n"
     ]
    }
   ],
   "source": [
    "df1['age_bins']=pd.cut(x=df1['age'],bins=8,retbins= False,\n",
    "    precision = 0,include_lowest=True)"
   ]
  },
  {
   "cell_type": "code",
   "execution_count": 14,
   "id": "b4a8657f",
   "metadata": {},
   "outputs": [
    {
     "data": {
      "text/html": [
       "<div>\n",
       "<style scoped>\n",
       "    .dataframe tbody tr th:only-of-type {\n",
       "        vertical-align: middle;\n",
       "    }\n",
       "\n",
       "    .dataframe tbody tr th {\n",
       "        vertical-align: top;\n",
       "    }\n",
       "\n",
       "    .dataframe thead th {\n",
       "        text-align: right;\n",
       "    }\n",
       "</style>\n",
       "<table border=\"1\" class=\"dataframe\">\n",
       "  <thead>\n",
       "    <tr style=\"text-align: right;\">\n",
       "      <th></th>\n",
       "      <th>age</th>\n",
       "      <th>fare</th>\n",
       "      <th>survived</th>\n",
       "      <th>age_label</th>\n",
       "      <th>age_bins</th>\n",
       "    </tr>\n",
       "  </thead>\n",
       "  <tbody>\n",
       "    <tr>\n",
       "      <th>0</th>\n",
       "      <td>22.000000</td>\n",
       "      <td>7.2500</td>\n",
       "      <td>0</td>\n",
       "      <td>bins_3</td>\n",
       "      <td>(20.0, 30.0]</td>\n",
       "    </tr>\n",
       "    <tr>\n",
       "      <th>1</th>\n",
       "      <td>38.000000</td>\n",
       "      <td>71.2833</td>\n",
       "      <td>1</td>\n",
       "      <td>bins_4</td>\n",
       "      <td>(30.0, 40.0]</td>\n",
       "    </tr>\n",
       "    <tr>\n",
       "      <th>2</th>\n",
       "      <td>26.000000</td>\n",
       "      <td>7.9250</td>\n",
       "      <td>1</td>\n",
       "      <td>bins_3</td>\n",
       "      <td>(20.0, 30.0]</td>\n",
       "    </tr>\n",
       "    <tr>\n",
       "      <th>3</th>\n",
       "      <td>35.000000</td>\n",
       "      <td>53.1000</td>\n",
       "      <td>1</td>\n",
       "      <td>bins_4</td>\n",
       "      <td>(30.0, 40.0]</td>\n",
       "    </tr>\n",
       "    <tr>\n",
       "      <th>4</th>\n",
       "      <td>35.000000</td>\n",
       "      <td>8.0500</td>\n",
       "      <td>0</td>\n",
       "      <td>bins_4</td>\n",
       "      <td>(30.0, 40.0]</td>\n",
       "    </tr>\n",
       "    <tr>\n",
       "      <th>...</th>\n",
       "      <td>...</td>\n",
       "      <td>...</td>\n",
       "      <td>...</td>\n",
       "      <td>...</td>\n",
       "      <td>...</td>\n",
       "    </tr>\n",
       "    <tr>\n",
       "      <th>886</th>\n",
       "      <td>27.000000</td>\n",
       "      <td>13.0000</td>\n",
       "      <td>0</td>\n",
       "      <td>bins_3</td>\n",
       "      <td>(20.0, 30.0]</td>\n",
       "    </tr>\n",
       "    <tr>\n",
       "      <th>887</th>\n",
       "      <td>19.000000</td>\n",
       "      <td>30.0000</td>\n",
       "      <td>1</td>\n",
       "      <td>bins_2</td>\n",
       "      <td>(10.0, 20.0]</td>\n",
       "    </tr>\n",
       "    <tr>\n",
       "      <th>888</th>\n",
       "      <td>29.699118</td>\n",
       "      <td>23.4500</td>\n",
       "      <td>0</td>\n",
       "      <td>bins_3</td>\n",
       "      <td>(20.0, 30.0]</td>\n",
       "    </tr>\n",
       "    <tr>\n",
       "      <th>889</th>\n",
       "      <td>26.000000</td>\n",
       "      <td>30.0000</td>\n",
       "      <td>1</td>\n",
       "      <td>bins_3</td>\n",
       "      <td>(20.0, 30.0]</td>\n",
       "    </tr>\n",
       "    <tr>\n",
       "      <th>890</th>\n",
       "      <td>32.000000</td>\n",
       "      <td>7.7500</td>\n",
       "      <td>0</td>\n",
       "      <td>bins_4</td>\n",
       "      <td>(30.0, 40.0]</td>\n",
       "    </tr>\n",
       "  </tbody>\n",
       "</table>\n",
       "<p>891 rows × 5 columns</p>\n",
       "</div>"
      ],
      "text/plain": [
       "           age     fare  survived age_label      age_bins\n",
       "0    22.000000   7.2500         0    bins_3  (20.0, 30.0]\n",
       "1    38.000000  71.2833         1    bins_4  (30.0, 40.0]\n",
       "2    26.000000   7.9250         1    bins_3  (20.0, 30.0]\n",
       "3    35.000000  53.1000         1    bins_4  (30.0, 40.0]\n",
       "4    35.000000   8.0500         0    bins_4  (30.0, 40.0]\n",
       "..         ...      ...       ...       ...           ...\n",
       "886  27.000000  13.0000         0    bins_3  (20.0, 30.0]\n",
       "887  19.000000  30.0000         1    bins_2  (10.0, 20.0]\n",
       "888  29.699118  23.4500         0    bins_3  (20.0, 30.0]\n",
       "889  26.000000  30.0000         1    bins_3  (20.0, 30.0]\n",
       "890  32.000000   7.7500         0    bins_4  (30.0, 40.0]\n",
       "\n",
       "[891 rows x 5 columns]"
      ]
     },
     "execution_count": 14,
     "metadata": {},
     "output_type": "execute_result"
    }
   ],
   "source": [
    "df1"
   ]
  },
  {
   "cell_type": "code",
   "execution_count": 15,
   "id": "fa15919c",
   "metadata": {},
   "outputs": [
    {
     "data": {
      "text/plain": [
       "(array([0, 1, 2, 3, 4, 5, 6, 7]),\n",
       " [Text(0, 0, '(-1.0, 10.0]'),\n",
       "  Text(1, 0, '(10.0, 20.0]'),\n",
       "  Text(2, 0, '(20.0, 30.0]'),\n",
       "  Text(3, 0, '(30.0, 40.0]'),\n",
       "  Text(4, 0, '(40.0, 50.0]'),\n",
       "  Text(5, 0, '(50.0, 60.0]'),\n",
       "  Text(6, 0, '(60.0, 70.0]'),\n",
       "  Text(7, 0, '(70.0, 80.0]')])"
      ]
     },
     "execution_count": 15,
     "metadata": {},
     "output_type": "execute_result"
    },
    {
     "data": {
      "image/png": "[encoded data removed]",
      "text/plain": [
       "<Figure size 640x480 with 1 Axes>"
      ]
     },
     "metadata": {},
     "output_type": "display_data"
    }
   ],
   "source": [
    "## let's plot to check which age group was more\n",
    "import matplotlib.pyplot as plt\n",
    "df1.groupby('age_bins')['age'].count().plot.bar()\n",
    "\n",
    "plt.xticks(rotation=45)"
   ]
  },
  {
   "cell_type": "markdown",
   "id": "36b00dfc",
   "metadata": {},
   "source": [
    "# Thank you!"
   ]
  },
  {
   "cell_type": "code",
   "execution_count": null,
   "id": "def17f74",
   "metadata": {},
   "outputs": [],
   "source": []
  },
  {
   "cell_type": "code",
   "execution_count": null,
   "id": "8a640f3d",
   "metadata": {},
   "outputs": [],
   "source": []
  }
 ],
 "metadata": {
  "kernelspec": {
   "display_name": "Python 3 (ipykernel)",
   "language": "python",
   "name": "python3"
  },
  "language_info": {
   "codemirror_mode": {
    "name": "ipython",
    "version": 3
   },
   "file_extension": ".py",
   "mimetype": "text/x-python",
   "name": "python",
   "nbconvert_exporter": "python",
   "pygments_lexer": "ipython3",
   "version": "3.10.9"
  }
 },
 "nbformat": 4,
 "nbformat_minor": 5
}
