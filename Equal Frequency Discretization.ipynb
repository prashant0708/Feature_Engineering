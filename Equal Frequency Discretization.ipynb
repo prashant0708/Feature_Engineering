{
 "cells": [
  {
   "cell_type": "markdown",
   "id": "670dfd6b",
   "metadata": {},
   "source": [
    "# Discritization \n",
    "Discritization is the process of transforming the continous variable into discreate variable by creating set of contigous interval that span the range of variable's value . it is also called the binning , binning is nothing but interval in otherword.\n",
    "\n",
    "# Why discretization is important. \n",
    "\n",
    "- Discretization help to handel the outliers by placing the outliers value in lower and upper binns . \n",
    "- Discretization also help to improve the skewed varibales by setting up the binns . \n",
    "\n",
    "# What are the method of discretization \n",
    "Discretization has categories into two category.\n",
    "1. Unsupervised discretization \n",
    "2. Supervised discretization \n",
    "\n",
    "- In Upsupervised discretization we have several approch \n",
    "1. Equal Width Discretization\n",
    "2. Equal frequency Discretization \n",
    "3. K-mean Discretization \n",
    "\n",
    "- In Supervised Discretization \n",
    "1. Decision Tree Discretization \n",
    "\n",
    "**********************************************************************************\n",
    "### 1. Equal Width Discretization \n",
    "Equal width discretization , continous variable value divide by N bins with Equal Width . The Equal width are calculated by dividing the range of value by N bins , where N are definne by user . \n",
    "\n",
    "`width= (value_max- value_min)/ N `\n",
    "\n",
    "### 2. Equal Frequency Discretization\n",
    "\n",
    "Equal Frequency Discretization divide the continous variable into N bins and each bins carry the same amount of observation. \n",
    "This discretization method is more helpful for skewed variables as it spread the observation in different bins equally.\n",
    "\n",
    "\n",
    "Equal Frequency Discretization use  quantile which divide the variable into N quantile , where N is define by the user."
   ]
  },
  {
   "cell_type": "code",
   "execution_count": 12,
   "id": "4b6ce076",
   "metadata": {},
   "outputs": [],
   "source": [
    "import pandas as pd\n",
    "import numpy as np"
   ]
  },
  {
   "cell_type": "code",
   "execution_count": 3,
   "id": "dcf66070",
   "metadata": {},
   "outputs": [
    {
     "name": "stdout",
     "output_type": "stream",
     "text": [
      "C:\\Users\\Prashant Kumar Singh\\Downloads\\Study Materials\\Python\\Feature Engineering on 25th Jan 24\\Multiple data set\\Housing.csv\n",
      "C:\\Users\\Prashant Kumar Singh\\Downloads\\Study Materials\\Python\\Feature Engineering on 25th Jan 24\\Multiple data set\\loan.csv\n",
      "C:\\Users\\Prashant Kumar Singh\\Downloads\\Study Materials\\Python\\Feature Engineering on 25th Jan 24\\Multiple data set\\README.md\n",
      "C:\\Users\\Prashant Kumar Singh\\Downloads\\Study Materials\\Python\\Feature Engineering on 25th Jan 24\\Multiple data set\\titanic.xlsx\n"
     ]
    }
   ],
   "source": [
    "import os \n",
    "\n",
    "for dir_name,_,files_name in os.walk(r'C:\\Users\\Prashant Kumar Singh\\Downloads\\Study Materials\\Python\\Feature Engineering on 25th Jan 24\\Multiple data set'):\n",
    "    for file in files_name:\n",
    "        print(os.path.join(dir_name,file))"
   ]
  },
  {
   "cell_type": "code",
   "execution_count": 4,
   "id": "6b79439d",
   "metadata": {},
   "outputs": [],
   "source": [
    "df=pd.read_excel(r\"C:\\Users\\Prashant Kumar Singh\\Downloads\\Study Materials\\Python\\Feature Engineering on 25th Jan 24\\Multiple data set\\titanic.xlsx\"\n",
    ")"
   ]
  },
  {
   "cell_type": "code",
   "execution_count": 5,
   "id": "e4da0791",
   "metadata": {},
   "outputs": [
    {
     "data": {
      "text/html": [
       "<div>\n",
       "<style scoped>\n",
       "    .dataframe tbody tr th:only-of-type {\n",
       "        vertical-align: middle;\n",
       "    }\n",
       "\n",
       "    .dataframe tbody tr th {\n",
       "        vertical-align: top;\n",
       "    }\n",
       "\n",
       "    .dataframe thead th {\n",
       "        text-align: right;\n",
       "    }\n",
       "</style>\n",
       "<table border=\"1\" class=\"dataframe\">\n",
       "  <thead>\n",
       "    <tr style=\"text-align: right;\">\n",
       "      <th></th>\n",
       "      <th>pclass</th>\n",
       "      <th>sex</th>\n",
       "      <th>age</th>\n",
       "      <th>sibsp</th>\n",
       "      <th>parch</th>\n",
       "      <th>fare</th>\n",
       "      <th>embarked</th>\n",
       "      <th>class</th>\n",
       "      <th>who</th>\n",
       "      <th>adult_male</th>\n",
       "      <th>deck</th>\n",
       "      <th>embark_town</th>\n",
       "      <th>alive</th>\n",
       "      <th>alone</th>\n",
       "      <th>survived</th>\n",
       "    </tr>\n",
       "  </thead>\n",
       "  <tbody>\n",
       "    <tr>\n",
       "      <th>0</th>\n",
       "      <td>3</td>\n",
       "      <td>male</td>\n",
       "      <td>22.0</td>\n",
       "      <td>1</td>\n",
       "      <td>0</td>\n",
       "      <td>7.2500</td>\n",
       "      <td>S</td>\n",
       "      <td>Third</td>\n",
       "      <td>man</td>\n",
       "      <td>True</td>\n",
       "      <td>NaN</td>\n",
       "      <td>Southampton</td>\n",
       "      <td>no</td>\n",
       "      <td>False</td>\n",
       "      <td>0</td>\n",
       "    </tr>\n",
       "    <tr>\n",
       "      <th>1</th>\n",
       "      <td>1</td>\n",
       "      <td>female</td>\n",
       "      <td>38.0</td>\n",
       "      <td>1</td>\n",
       "      <td>0</td>\n",
       "      <td>71.2833</td>\n",
       "      <td>C</td>\n",
       "      <td>First</td>\n",
       "      <td>woman</td>\n",
       "      <td>False</td>\n",
       "      <td>C</td>\n",
       "      <td>Cherbourg</td>\n",
       "      <td>yes</td>\n",
       "      <td>False</td>\n",
       "      <td>1</td>\n",
       "    </tr>\n",
       "    <tr>\n",
       "      <th>2</th>\n",
       "      <td>3</td>\n",
       "      <td>female</td>\n",
       "      <td>26.0</td>\n",
       "      <td>0</td>\n",
       "      <td>0</td>\n",
       "      <td>7.9250</td>\n",
       "      <td>S</td>\n",
       "      <td>Third</td>\n",
       "      <td>woman</td>\n",
       "      <td>False</td>\n",
       "      <td>NaN</td>\n",
       "      <td>Southampton</td>\n",
       "      <td>yes</td>\n",
       "      <td>True</td>\n",
       "      <td>1</td>\n",
       "    </tr>\n",
       "    <tr>\n",
       "      <th>3</th>\n",
       "      <td>1</td>\n",
       "      <td>female</td>\n",
       "      <td>35.0</td>\n",
       "      <td>1</td>\n",
       "      <td>0</td>\n",
       "      <td>53.1000</td>\n",
       "      <td>S</td>\n",
       "      <td>First</td>\n",
       "      <td>woman</td>\n",
       "      <td>False</td>\n",
       "      <td>C</td>\n",
       "      <td>Southampton</td>\n",
       "      <td>yes</td>\n",
       "      <td>False</td>\n",
       "      <td>1</td>\n",
       "    </tr>\n",
       "    <tr>\n",
       "      <th>4</th>\n",
       "      <td>3</td>\n",
       "      <td>male</td>\n",
       "      <td>35.0</td>\n",
       "      <td>0</td>\n",
       "      <td>0</td>\n",
       "      <td>8.0500</td>\n",
       "      <td>S</td>\n",
       "      <td>Third</td>\n",
       "      <td>man</td>\n",
       "      <td>True</td>\n",
       "      <td>NaN</td>\n",
       "      <td>Southampton</td>\n",
       "      <td>no</td>\n",
       "      <td>True</td>\n",
       "      <td>0</td>\n",
       "    </tr>\n",
       "  </tbody>\n",
       "</table>\n",
       "</div>"
      ],
      "text/plain": [
       "   pclass     sex   age  sibsp  parch     fare embarked  class    who  \\\n",
       "0       3    male  22.0      1      0   7.2500        S  Third    man   \n",
       "1       1  female  38.0      1      0  71.2833        C  First  woman   \n",
       "2       3  female  26.0      0      0   7.9250        S  Third  woman   \n",
       "3       1  female  35.0      1      0  53.1000        S  First  woman   \n",
       "4       3    male  35.0      0      0   8.0500        S  Third    man   \n",
       "\n",
       "   adult_male deck  embark_town alive  alone  survived  \n",
       "0        True  NaN  Southampton    no  False         0  \n",
       "1       False    C    Cherbourg   yes  False         1  \n",
       "2       False  NaN  Southampton   yes   True         1  \n",
       "3       False    C  Southampton   yes  False         1  \n",
       "4        True  NaN  Southampton    no   True         0  "
      ]
     },
     "execution_count": 5,
     "metadata": {},
     "output_type": "execute_result"
    }
   ],
   "source": [
    "df.head()"
   ]
  },
  {
   "cell_type": "code",
   "execution_count": 6,
   "id": "389b2865",
   "metadata": {},
   "outputs": [],
   "source": [
    "df1=df[[\"age\",'fare','survived']]"
   ]
  },
  {
   "cell_type": "code",
   "execution_count": 7,
   "id": "fbc4a7a7",
   "metadata": {},
   "outputs": [
    {
     "data": {
      "text/html": [
       "<div>\n",
       "<style scoped>\n",
       "    .dataframe tbody tr th:only-of-type {\n",
       "        vertical-align: middle;\n",
       "    }\n",
       "\n",
       "    .dataframe tbody tr th {\n",
       "        vertical-align: top;\n",
       "    }\n",
       "\n",
       "    .dataframe thead th {\n",
       "        text-align: right;\n",
       "    }\n",
       "</style>\n",
       "<table border=\"1\" class=\"dataframe\">\n",
       "  <thead>\n",
       "    <tr style=\"text-align: right;\">\n",
       "      <th></th>\n",
       "      <th>age</th>\n",
       "      <th>fare</th>\n",
       "      <th>survived</th>\n",
       "    </tr>\n",
       "  </thead>\n",
       "  <tbody>\n",
       "    <tr>\n",
       "      <th>0</th>\n",
       "      <td>22.0</td>\n",
       "      <td>7.2500</td>\n",
       "      <td>0</td>\n",
       "    </tr>\n",
       "    <tr>\n",
       "      <th>1</th>\n",
       "      <td>38.0</td>\n",
       "      <td>71.2833</td>\n",
       "      <td>1</td>\n",
       "    </tr>\n",
       "    <tr>\n",
       "      <th>2</th>\n",
       "      <td>26.0</td>\n",
       "      <td>7.9250</td>\n",
       "      <td>1</td>\n",
       "    </tr>\n",
       "    <tr>\n",
       "      <th>3</th>\n",
       "      <td>35.0</td>\n",
       "      <td>53.1000</td>\n",
       "      <td>1</td>\n",
       "    </tr>\n",
       "    <tr>\n",
       "      <th>4</th>\n",
       "      <td>35.0</td>\n",
       "      <td>8.0500</td>\n",
       "      <td>0</td>\n",
       "    </tr>\n",
       "  </tbody>\n",
       "</table>\n",
       "</div>"
      ],
      "text/plain": [
       "    age     fare  survived\n",
       "0  22.0   7.2500         0\n",
       "1  38.0  71.2833         1\n",
       "2  26.0   7.9250         1\n",
       "3  35.0  53.1000         1\n",
       "4  35.0   8.0500         0"
      ]
     },
     "execution_count": 7,
     "metadata": {},
     "output_type": "execute_result"
    }
   ],
   "source": [
    "df1.head()"
   ]
  },
  {
   "cell_type": "code",
   "execution_count": 10,
   "id": "31d76b9c",
   "metadata": {},
   "outputs": [
    {
     "data": {
      "text/plain": [
       "age         177\n",
       "fare          0\n",
       "survived      0\n",
       "dtype: int64"
      ]
     },
     "execution_count": 10,
     "metadata": {},
     "output_type": "execute_result"
    }
   ],
   "source": [
    "df1.isnull().sum()"
   ]
  },
  {
   "cell_type": "code",
   "execution_count": 13,
   "id": "c95c30ef",
   "metadata": {},
   "outputs": [
    {
     "name": "stderr",
     "output_type": "stream",
     "text": [
      "C:\\Users\\Prashant Kumar Singh\\AppData\\Local\\Temp\\ipykernel_11424\\1608095830.py:2: SettingWithCopyWarning: \n",
      "A value is trying to be set on a copy of a slice from a DataFrame.\n",
      "Try using .loc[row_indexer,col_indexer] = value instead\n",
      "\n",
      "See the caveats in the documentation: https://pandas.pydata.org/pandas-docs/stable/user_guide/indexing.html#returning-a-view-versus-a-copy\n",
      "  df1['age']=df1['age'].fillna(np.mean(df1['age']))\n"
     ]
    }
   ],
   "source": [
    "##replace the null value of age\n",
    "df1['age']=df1['age'].fillna(np.mean(df1['age']))"
   ]
  },
  {
   "cell_type": "code",
   "execution_count": 8,
   "id": "a0659c1a",
   "metadata": {},
   "outputs": [],
   "source": [
    "# N= 8\n",
    "\n",
    "LABEL=['Bins_'+str(i) for i in range (1,9)]"
   ]
  },
  {
   "cell_type": "code",
   "execution_count": 9,
   "id": "30037906",
   "metadata": {},
   "outputs": [
    {
     "data": {
      "text/plain": [
       "['Bins_1',\n",
       " 'Bins_2',\n",
       " 'Bins_3',\n",
       " 'Bins_4',\n",
       " 'Bins_5',\n",
       " 'Bins_6',\n",
       " 'Bins_7',\n",
       " 'Bins_8']"
      ]
     },
     "execution_count": 9,
     "metadata": {},
     "output_type": "execute_result"
    }
   ],
   "source": [
    "LABEL"
   ]
  },
  {
   "cell_type": "code",
   "execution_count": 25,
   "id": "6afe363d",
   "metadata": {},
   "outputs": [],
   "source": [
    "Age_disccretised, intervals =pd.qcut( df1['age'],\n",
    "    8,\n",
    "    labels=None,\n",
    "    retbins = True,\n",
    "    precision = 3,\n",
    "    duplicates = 'drop')"
   ]
  },
  {
   "cell_type": "code",
   "execution_count": 26,
   "id": "424d8626",
   "metadata": {},
   "outputs": [
    {
     "data": {
      "text/html": [
       "<div>\n",
       "<style scoped>\n",
       "    .dataframe tbody tr th:only-of-type {\n",
       "        vertical-align: middle;\n",
       "    }\n",
       "\n",
       "    .dataframe tbody tr th {\n",
       "        vertical-align: top;\n",
       "    }\n",
       "\n",
       "    .dataframe thead th {\n",
       "        text-align: right;\n",
       "    }\n",
       "</style>\n",
       "<table border=\"1\" class=\"dataframe\">\n",
       "  <thead>\n",
       "    <tr style=\"text-align: right;\">\n",
       "      <th></th>\n",
       "      <th>age</th>\n",
       "      <th>age</th>\n",
       "    </tr>\n",
       "  </thead>\n",
       "  <tbody>\n",
       "    <tr>\n",
       "      <th>0</th>\n",
       "      <td>(17.0, 22.0]</td>\n",
       "      <td>22.000000</td>\n",
       "    </tr>\n",
       "    <tr>\n",
       "      <th>1</th>\n",
       "      <td>(35.0, 45.0]</td>\n",
       "      <td>38.000000</td>\n",
       "    </tr>\n",
       "    <tr>\n",
       "      <th>2</th>\n",
       "      <td>(22.0, 27.0]</td>\n",
       "      <td>26.000000</td>\n",
       "    </tr>\n",
       "    <tr>\n",
       "      <th>3</th>\n",
       "      <td>(29.699, 35.0]</td>\n",
       "      <td>35.000000</td>\n",
       "    </tr>\n",
       "    <tr>\n",
       "      <th>4</th>\n",
       "      <td>(29.699, 35.0]</td>\n",
       "      <td>35.000000</td>\n",
       "    </tr>\n",
       "    <tr>\n",
       "      <th>...</th>\n",
       "      <td>...</td>\n",
       "      <td>...</td>\n",
       "    </tr>\n",
       "    <tr>\n",
       "      <th>886</th>\n",
       "      <td>(22.0, 27.0]</td>\n",
       "      <td>27.000000</td>\n",
       "    </tr>\n",
       "    <tr>\n",
       "      <th>887</th>\n",
       "      <td>(17.0, 22.0]</td>\n",
       "      <td>19.000000</td>\n",
       "    </tr>\n",
       "    <tr>\n",
       "      <th>888</th>\n",
       "      <td>(27.0, 29.699]</td>\n",
       "      <td>29.699118</td>\n",
       "    </tr>\n",
       "    <tr>\n",
       "      <th>889</th>\n",
       "      <td>(22.0, 27.0]</td>\n",
       "      <td>26.000000</td>\n",
       "    </tr>\n",
       "    <tr>\n",
       "      <th>890</th>\n",
       "      <td>(29.699, 35.0]</td>\n",
       "      <td>32.000000</td>\n",
       "    </tr>\n",
       "  </tbody>\n",
       "</table>\n",
       "<p>891 rows × 2 columns</p>\n",
       "</div>"
      ],
      "text/plain": [
       "                age        age\n",
       "0      (17.0, 22.0]  22.000000\n",
       "1      (35.0, 45.0]  38.000000\n",
       "2      (22.0, 27.0]  26.000000\n",
       "3    (29.699, 35.0]  35.000000\n",
       "4    (29.699, 35.0]  35.000000\n",
       "..              ...        ...\n",
       "886    (22.0, 27.0]  27.000000\n",
       "887    (17.0, 22.0]  19.000000\n",
       "888  (27.0, 29.699]  29.699118\n",
       "889    (22.0, 27.0]  26.000000\n",
       "890  (29.699, 35.0]  32.000000\n",
       "\n",
       "[891 rows x 2 columns]"
      ]
     },
     "execution_count": 26,
     "metadata": {},
     "output_type": "execute_result"
    }
   ],
   "source": [
    "pd.concat([Age_disccretised,df1['age']],axis=1)"
   ]
  },
  {
   "cell_type": "code",
   "execution_count": 27,
   "id": "3e92fee4",
   "metadata": {},
   "outputs": [
    {
     "data": {
      "text/plain": [
       "array([ 0.42      , 17.        , 22.        , 27.        , 29.69911765,\n",
       "       35.        , 45.        , 80.        ])"
      ]
     },
     "execution_count": 27,
     "metadata": {},
     "output_type": "execute_result"
    }
   ],
   "source": [
    "intervals"
   ]
  },
  {
   "cell_type": "code",
   "execution_count": 31,
   "id": "c405d758",
   "metadata": {},
   "outputs": [
    {
     "data": {
      "text/plain": [
       "(27.0, 29.699]    224\n",
       "(17.0, 22.0]      118\n",
       "(35.0, 45.0]      114\n",
       "(0.419, 17.0]     113\n",
       "(29.699, 35.0]    113\n",
       "(22.0, 27.0]      106\n",
       "(45.0, 80.0]      103\n",
       "Name: age, dtype: int64"
      ]
     },
     "execution_count": 31,
     "metadata": {},
     "output_type": "execute_result"
    }
   ],
   "source": [
    "## check the value counts of each bins\n",
    "Age_disccretised.value_counts()"
   ]
  },
  {
   "cell_type": "code",
   "execution_count": 30,
   "id": "8da8cdd7",
   "metadata": {},
   "outputs": [
    {
     "data": {
      "text/plain": [
       "<Axes: >"
      ]
     },
     "execution_count": 30,
     "metadata": {},
     "output_type": "execute_result"
    },
    {
     "data": {
      "image/png": "[encoded data removed]",
      "text/plain": [
       "<Figure size 640x480 with 1 Axes>"
      ]
     },
     "metadata": {},
     "output_type": "display_data"
    }
   ],
   "source": [
    "Age_disccretised.value_counts(normalize=True).sort_index().plot.bar(rot=45)"
   ]
  },
  {
   "cell_type": "markdown",
   "id": "49f3b784",
   "metadata": {},
   "source": [
    "# Thank you !!"
   ]
  },
  {
   "cell_type": "code",
   "execution_count": null,
   "id": "29ef30d6",
   "metadata": {},
   "outputs": [],
   "source": []
  }
 ],
 "metadata": {
  "kernelspec": {
   "display_name": "Python 3 (ipykernel)",
   "language": "python",
   "name": "python3"
  },
  "language_info": {
   "codemirror_mode": {
    "name": "ipython",
    "version": 3
   },
   "file_extension": ".py",
   "mimetype": "text/x-python",
   "name": "python",
   "nbconvert_exporter": "python",
   "pygments_lexer": "ipython3",
   "version": "3.10.9"
  }
 },
 "nbformat": 4,
 "nbformat_minor": 5
}
